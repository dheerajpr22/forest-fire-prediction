{
 "cells": [
  {
   "cell_type": "code",
   "execution_count": null,
   "id": "8581f082",
   "metadata": {},
   "outputs": [],
   "source": [
    "import ee\n",
    "import geemap\n",
    "import pandas as pd"
   ]
  },
  {
   "cell_type": "code",
   "execution_count": null,
   "id": "9c2a2bd9",
   "metadata": {},
   "outputs": [],
   "source": [
    "# Initialize Google Earth Engine\n",
    "ee.Initialize()\n"
   ]
  },
  {
   "cell_type": "code",
   "execution_count": null,
   "id": "c86ed576",
   "metadata": {},
   "outputs": [],
   "source": [
    "\n",
    "# Retrieve and calculate the mean NDVI for a specific date range\n",
    "ndvi = ee.ImageCollection('MODIS/061/MOD13Q1').filterDate('2023-04-05', '2023-04-14').select('NDVI').mean()\n",
    "\n",
    "# Clip the NDVI data to a specific region defined by a feature collection (district boundary)\n",
    "ndvi_clipped = ndvi.clip(ee.FeatureCollection('projects/sreekesh/assets/kodk'))\n",
    "\n",
    "# Set visualization parameters for NDVI\n",
    "ndviVis = {\n",
    "    'min': 0,\n",
    "    'max': 8000,\n",
    "    'palette': [\n",
    "        'FFFFFF', 'CE7E45', 'DF923D', 'F1B555', 'FCD163', '99B718', '74A901',\n",
    "        '66A000', '529400', '3E8601', '207401', '056201', '004C00', '023B01',\n",
    "        '012E01', '011D01', '011301'\n",
    "    ]\n",
    "}\n"
   ]
  },
  {
   "cell_type": "code",
   "execution_count": null,
   "id": "8015e177",
   "metadata": {},
   "outputs": [],
   "source": [
    "\n",
    "# Retrieve and calculate the mean LST for a specific date range\n",
    "lst = ee.ImageCollection('JAXA/GCOM-C/L3/LAND/LST/V3').filterDate('2023-04-10', '2023-04-14').select('LST_AVE').mean()\n",
    "\n",
    "# Clip the LST data to the same specific region (district boundary) as the NDVI data\n",
    "lst_clipped = lst.clip(ee.FeatureCollection('projects/sreekesh/assets/kodk'))\n",
    "\n",
    "# Calculate the minimum and maximum values of LST within the clipped region\n",
    "lst_stats = lst_clipped.reduceRegion(ee.Reducer.minMax(), ee.FeatureCollection('projects/sreekesh/assets/kodk').geometry(), scale=500, maxPixels=1e13)\n",
    "lst_min = ee.Number(lst_stats.get('LST_AVE_min'))\n",
    "lst_max = ee.Number(lst_stats.get('LST_AVE_max'))\n",
    "\n",
    "# Set visualization parameters for LST\n",
    "lstVis = {\n",
    "    'bands': ['LST_AVE'],\n",
    "    'min': lst_min,\n",
    "    'max': lst_max,\n",
    "    'palette': [\n",
    "        '040274', '040281', '0502a3', '0502b8', '0502ce', '0502e6',\n",
    "        '0602ff', '235cb1', '307ef3', '269db1', '30c8e2', '32d3ef',\n",
    "        '3be285', '3ff38f', '86e26f', '3ae237', 'b5e22e', 'd6e21f',\n",
    "        'fff705', 'ffd611', 'ffb613', 'ff8b13', 'ff6e08', 'ff500d',\n",
    "        'ff0000', 'de0101', 'c21301', 'a71001', '911003'\n",
    "    ]\n",
    "}"
   ]
  },
  {
   "cell_type": "code",
   "execution_count": null,
   "id": "b96cae1c",
   "metadata": {},
   "outputs": [],
   "source": [
    "\n",
    "# Retrieve and calculate the mean precipitation for a specific date range\n",
    "precipitation = ee.ImageCollection(\"UCSB-CHG/CHIRPS/DAILY\").filterDate('2023-04-01', '2023-04-14').select('precipitation').mean()\n",
    "\n",
    "# Clip the precipitation data to the same specific region (district boundary) as the other layers\n",
    "precipitation_clipped = precipitation.clip(ee.FeatureCollection('projects/sreekesh/assets/kodk').geometry())\n",
    "\n",
    "# Set visualization parameters for precipitation\n",
    "precipitationVis = {\n",
    "    'min': 0,\n",
    "    'max': 12,\n",
    "    'palette': ['blue', 'cyan', 'green', 'yellow', 'red']\n",
    "}"
   ]
  },
  {
   "cell_type": "code",
   "execution_count": null,
   "id": "d129e912",
   "metadata": {},
   "outputs": [],
   "source": [
    "\n",
    "\n",
    "\n",
    "# Retrieve and calculate the mean climate data for a specific date range\n",
    "climate = ee.ImageCollection('IDAHO_EPSCOR/TERRACLIMATE').filterDate('2020-03-01', '2020-04-14').mean()\n",
    "\n",
    "# Clip the climate data to the same specific region (district boundary) as the other layers\n",
    "climate_clipped = climate.clip(ee.FeatureCollection('projects/sreekesh/assets/kodk').geometry())\n",
    "\n",
    "# Set visualization parameters for wind speed (vs band)\n",
    "windVis = {\n",
    "    'bands': ['vs'],  # Use the 'vs' band for wind speed\n",
    "    'min': 0,\n",
    "    'max': 292.3,  # Maximum wind speed value in the data\n",
    "    'palette': ['blue', 'green', 'yellow', 'orange', 'red']  # Continuous wind speed color palette\n",
    "}"
   ]
  },
  {
   "cell_type": "code",
   "execution_count": null,
   "id": "018a2a10",
   "metadata": {},
   "outputs": [],
   "source": [
    "\n",
    "\n",
    "# Create a geemap object for the interactive map visualization\n",
    "Map = geemap.Map()\n",
    "\n",
    "# Set the center of the map and zoom level\n",
    "Map.setCenter(6.746, 46.529, 2)\n",
    "\n",
    "# Add the NDVI, LST, precipitation, and wind speed layers to the map with their respective visualization parameters\n",
    "Map.addLayer(ndvi_clipped, ndviVis, 'Clipped NDVI')\n",
    "Map.addLayer(lst_clipped, lstVis, 'Clipped LST')\n",
    "Map.addLayer(precipitation_clipped, precipitationVis, 'Clipped Precipitation')\n",
    "Map.addLayer(climate_clipped, windVis, 'Wind Speed')\n",
    "\n",
    "# Display the map\n",
    "Map"
   ]
  },
  {
   "cell_type": "code",
   "execution_count": null,
   "id": "2e210a4f",
   "metadata": {},
   "outputs": [],
   "source": [
    "\n",
    "# Combine layers for random forest input\n",
    "combined = ee.Image([ndvi_clipped, lst_clipped, precipitation_clipped, climate_clipped])\n",
    "\n",
    "# Load latitude and longitude points from a CSV file\n",
    "csv_file_path = r\"C:\\Users\\Asus\\Desktop\\TAMIL_N\\A1234567\\A.csv\"\n",
    "points_df = pd.read_csv(csv_file_path)\n",
    "\n",
    "# Extract latitude and longitude columns from the DataFrame\n",
    "latitudes = points_df['Longitude'].tolist()\n",
    "longitudes = points_df['Latitude'].tolist()\n",
    "\n",
    "# Create a list of points using the latitudes and longitudes\n",
    "points = [ee.Geometry.Point(lon, lat) for lat, lon in zip(latitudes, longitudes)]\n",
    "\n",
    "# Create a FeatureCollection from the list of points\n",
    "point_collection = ee.FeatureCollection(points)"
   ]
  },
  {
   "cell_type": "code",
   "execution_count": null,
   "id": "30524dc2",
   "metadata": {},
   "outputs": [],
   "source": [
    "\n",
    "\n",
    "# Sample the points from the FeatureCollection\n",
    "sample_points = combined.sampleRegions(\n",
    "    collection=point_collection,\n",
    "    scale=100,\n",
    "    geometries=True,\n",
    "    tileScale=16\n",
    ")\n",
    "\n",
    "# Extract the properties and values from the sample\n",
    "sample_values = sample_points.getInfo()[\"features\"]\n",
    "data = []\n",
    "for feature in sample_values:\n",
    "    properties = feature[\"properties\"]\n",
    "    coordinates = feature[\"geometry\"][\"coordinates\"]\n",
    "    data.append([coordinates[0], coordinates[1], properties[\"NDVI\"], properties[\"LST_AVE\"], properties[\"precipitation\"], properties[\"vs\"]])\n"
   ]
  },
  {
   "cell_type": "code",
   "execution_count": null,
   "id": "70d183d3",
   "metadata": {},
   "outputs": [],
   "source": [
    "\n",
    "# Create a DataFrame from the extracted data\n",
    "columns = [\"Latitude\", \"Longitude\", \"NDVI\", \"LST\", \"Precipitation\", \"Wind\"]\n",
    "df = pd.DataFrame(data, columns=columns)\n",
    "\n",
    "# Save the DataFrame as a CSV file\n",
    "csv_file_path_output = \"D:\\\\new_sample_fixed_sir.csv\"\n",
    "df.to_csv(csv_file_path_output, index=False)\n"
   ]
  },
  {
   "cell_type": "code",
   "execution_count": null,
   "id": "54f96fc3",
   "metadata": {},
   "outputs": [],
   "source": [
    "\n",
    "# Display a success message\n",
    "print(\"Sampled data saved as\", csv_file_path_output)\n"
   ]
  }
 ],
 "metadata": {
  "kernelspec": {
   "display_name": "Python 3 (ipykernel)",
   "language": "python",
   "name": "python3"
  },
  "language_info": {
   "codemirror_mode": {
    "name": "ipython",
    "version": 3
   },
   "file_extension": ".py",
   "mimetype": "text/x-python",
   "name": "python",
   "nbconvert_exporter": "python",
   "pygments_lexer": "ipython3",
   "version": "3.9.12"
  }
 },
 "nbformat": 4,
 "nbformat_minor": 5
}
