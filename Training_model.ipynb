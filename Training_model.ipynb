{
 "cells": [
  {
   "cell_type": "code",
   "execution_count": 1,
   "id": "62a28323",
   "metadata": {},
   "outputs": [],
   "source": [
    "import pandas as pd\n",
    "import numpy as np\n",
    "import matplotlib.pyplot as plt\n",
    "import seaborn as sns\n",
    "from scipy import stats\n",
    "from sklearn.preprocessing import StandardScaler\n",
    "from sklearn.model_selection import train_test_split\n",
    "from sklearn import metrics\n",
    "from sklearn.metrics import classification_report, confusion_matrix\n",
    "from sklearn.linear_model import LogisticRegression"
   ]
  },
  {
   "cell_type": "code",
   "execution_count": 2,
   "id": "af3002f7",
   "metadata": {},
   "outputs": [
    {
     "data": {
      "text/html": [
       "<div>\n",
       "<style scoped>\n",
       "    .dataframe tbody tr th:only-of-type {\n",
       "        vertical-align: middle;\n",
       "    }\n",
       "\n",
       "    .dataframe tbody tr th {\n",
       "        vertical-align: top;\n",
       "    }\n",
       "\n",
       "    .dataframe thead th {\n",
       "        text-align: right;\n",
       "    }\n",
       "</style>\n",
       "<table border=\"1\" class=\"dataframe\">\n",
       "  <thead>\n",
       "    <tr style=\"text-align: right;\">\n",
       "      <th></th>\n",
       "      <th>OID_</th>\n",
       "      <th>Latitude</th>\n",
       "      <th>Longitude</th>\n",
       "      <th>NDVI</th>\n",
       "      <th>LST</th>\n",
       "      <th>Precipitation</th>\n",
       "      <th>Wind</th>\n",
       "      <th>Fire</th>\n",
       "    </tr>\n",
       "  </thead>\n",
       "  <tbody>\n",
       "    <tr>\n",
       "      <th>0</th>\n",
       "      <td>1</td>\n",
       "      <td>76.490200</td>\n",
       "      <td>11.658135</td>\n",
       "      <td>8298</td>\n",
       "      <td>14917.0</td>\n",
       "      <td>6.469164</td>\n",
       "      <td>230</td>\n",
       "      <td>0</td>\n",
       "    </tr>\n",
       "    <tr>\n",
       "      <th>1</th>\n",
       "      <td>2</td>\n",
       "      <td>76.552283</td>\n",
       "      <td>11.738306</td>\n",
       "      <td>8939</td>\n",
       "      <td>15094.5</td>\n",
       "      <td>6.330219</td>\n",
       "      <td>220</td>\n",
       "      <td>0</td>\n",
       "    </tr>\n",
       "    <tr>\n",
       "      <th>2</th>\n",
       "      <td>3</td>\n",
       "      <td>76.651584</td>\n",
       "      <td>11.697461</td>\n",
       "      <td>4959</td>\n",
       "      <td>15150.0</td>\n",
       "      <td>6.382395</td>\n",
       "      <td>200</td>\n",
       "      <td>0</td>\n",
       "    </tr>\n",
       "    <tr>\n",
       "      <th>3</th>\n",
       "      <td>4</td>\n",
       "      <td>76.533187</td>\n",
       "      <td>11.723890</td>\n",
       "      <td>8284</td>\n",
       "      <td>14934.0</td>\n",
       "      <td>6.167960</td>\n",
       "      <td>230</td>\n",
       "      <td>0</td>\n",
       "    </tr>\n",
       "    <tr>\n",
       "      <th>4</th>\n",
       "      <td>5</td>\n",
       "      <td>76.617091</td>\n",
       "      <td>11.535475</td>\n",
       "      <td>8662</td>\n",
       "      <td>14903.0</td>\n",
       "      <td>5.638779</td>\n",
       "      <td>210</td>\n",
       "      <td>0</td>\n",
       "    </tr>\n",
       "    <tr>\n",
       "      <th>...</th>\n",
       "      <td>...</td>\n",
       "      <td>...</td>\n",
       "      <td>...</td>\n",
       "      <td>...</td>\n",
       "      <td>...</td>\n",
       "      <td>...</td>\n",
       "      <td>...</td>\n",
       "      <td>...</td>\n",
       "    </tr>\n",
       "    <tr>\n",
       "      <th>1295</th>\n",
       "      <td>1296</td>\n",
       "      <td>76.420177</td>\n",
       "      <td>11.645987</td>\n",
       "      <td>8300</td>\n",
       "      <td>14900.5</td>\n",
       "      <td>7.883348</td>\n",
       "      <td>230</td>\n",
       "      <td>0</td>\n",
       "    </tr>\n",
       "    <tr>\n",
       "      <th>1296</th>\n",
       "      <td>1297</td>\n",
       "      <td>76.539248</td>\n",
       "      <td>11.683239</td>\n",
       "      <td>8395</td>\n",
       "      <td>14905.5</td>\n",
       "      <td>6.888554</td>\n",
       "      <td>230</td>\n",
       "      <td>1</td>\n",
       "    </tr>\n",
       "    <tr>\n",
       "      <th>1297</th>\n",
       "      <td>1298</td>\n",
       "      <td>76.349314</td>\n",
       "      <td>11.568248</td>\n",
       "      <td>7150</td>\n",
       "      <td>14926.0</td>\n",
       "      <td>9.819245</td>\n",
       "      <td>210</td>\n",
       "      <td>0</td>\n",
       "    </tr>\n",
       "    <tr>\n",
       "      <th>1298</th>\n",
       "      <td>1299</td>\n",
       "      <td>76.440762</td>\n",
       "      <td>11.565806</td>\n",
       "      <td>7583</td>\n",
       "      <td>14893.5</td>\n",
       "      <td>7.743277</td>\n",
       "      <td>220</td>\n",
       "      <td>0</td>\n",
       "    </tr>\n",
       "    <tr>\n",
       "      <th>1299</th>\n",
       "      <td>1300</td>\n",
       "      <td>76.434168</td>\n",
       "      <td>11.546567</td>\n",
       "      <td>8274</td>\n",
       "      <td>14893.5</td>\n",
       "      <td>8.357499</td>\n",
       "      <td>220</td>\n",
       "      <td>0</td>\n",
       "    </tr>\n",
       "  </tbody>\n",
       "</table>\n",
       "<p>1300 rows × 8 columns</p>\n",
       "</div>"
      ],
      "text/plain": [
       "      OID_   Latitude  Longitude  NDVI      LST  Precipitation  Wind  Fire\n",
       "0        1  76.490200  11.658135  8298  14917.0       6.469164   230     0\n",
       "1        2  76.552283  11.738306  8939  15094.5       6.330219   220     0\n",
       "2        3  76.651584  11.697461  4959  15150.0       6.382395   200     0\n",
       "3        4  76.533187  11.723890  8284  14934.0       6.167960   230     0\n",
       "4        5  76.617091  11.535475  8662  14903.0       5.638779   210     0\n",
       "...    ...        ...        ...   ...      ...            ...   ...   ...\n",
       "1295  1296  76.420177  11.645987  8300  14900.5       7.883348   230     0\n",
       "1296  1297  76.539248  11.683239  8395  14905.5       6.888554   230     1\n",
       "1297  1298  76.349314  11.568248  7150  14926.0       9.819245   210     0\n",
       "1298  1299  76.440762  11.565806  7583  14893.5       7.743277   220     0\n",
       "1299  1300  76.434168  11.546567  8274  14893.5       8.357499   220     0\n",
       "\n",
       "[1300 rows x 8 columns]"
      ]
     },
     "execution_count": 2,
     "metadata": {},
     "output_type": "execute_result"
    }
   ],
   "source": [
    "df=pd.read_csv(\"corrected_data.csv\")\n",
    "df"
   ]
  },
  {
   "cell_type": "code",
   "execution_count": 3,
   "id": "844bdb57",
   "metadata": {},
   "outputs": [
    {
     "name": "stdout",
     "output_type": "stream",
     "text": [
      "<class 'pandas.core.frame.DataFrame'>\n",
      "RangeIndex: 1300 entries, 0 to 1299\n",
      "Data columns (total 8 columns):\n",
      " #   Column         Non-Null Count  Dtype  \n",
      "---  ------         --------------  -----  \n",
      " 0   OID_           1300 non-null   int64  \n",
      " 1   Latitude       1300 non-null   float64\n",
      " 2   Longitude      1300 non-null   float64\n",
      " 3   NDVI           1300 non-null   int64  \n",
      " 4   LST            1300 non-null   float64\n",
      " 5   Precipitation  1300 non-null   float64\n",
      " 6   Wind           1300 non-null   int64  \n",
      " 7   Fire           1300 non-null   int64  \n",
      "dtypes: float64(4), int64(4)\n",
      "memory usage: 81.4 KB\n"
     ]
    }
   ],
   "source": [
    "df.info()"
   ]
  },
  {
   "cell_type": "code",
   "execution_count": 4,
   "id": "cc216ce5",
   "metadata": {},
   "outputs": [
    {
     "data": {
      "text/html": [
       "<div>\n",
       "<style scoped>\n",
       "    .dataframe tbody tr th:only-of-type {\n",
       "        vertical-align: middle;\n",
       "    }\n",
       "\n",
       "    .dataframe tbody tr th {\n",
       "        vertical-align: top;\n",
       "    }\n",
       "\n",
       "    .dataframe thead th {\n",
       "        text-align: right;\n",
       "    }\n",
       "</style>\n",
       "<table border=\"1\" class=\"dataframe\">\n",
       "  <thead>\n",
       "    <tr style=\"text-align: right;\">\n",
       "      <th></th>\n",
       "      <th>OID_</th>\n",
       "      <th>Latitude</th>\n",
       "      <th>Longitude</th>\n",
       "      <th>NDVI</th>\n",
       "      <th>LST</th>\n",
       "      <th>Precipitation</th>\n",
       "      <th>Wind</th>\n",
       "      <th>Fire</th>\n",
       "    </tr>\n",
       "  </thead>\n",
       "  <tbody>\n",
       "    <tr>\n",
       "      <th>count</th>\n",
       "      <td>1300.000000</td>\n",
       "      <td>1300.000000</td>\n",
       "      <td>1300.000000</td>\n",
       "      <td>1300.000000</td>\n",
       "      <td>1300.000000</td>\n",
       "      <td>1300.000000</td>\n",
       "      <td>1300.000000</td>\n",
       "      <td>1300.000000</td>\n",
       "    </tr>\n",
       "    <tr>\n",
       "      <th>mean</th>\n",
       "      <td>650.500000</td>\n",
       "      <td>76.533100</td>\n",
       "      <td>11.632975</td>\n",
       "      <td>7226.233077</td>\n",
       "      <td>15003.539615</td>\n",
       "      <td>7.192514</td>\n",
       "      <td>219.130769</td>\n",
       "      <td>0.113846</td>\n",
       "    </tr>\n",
       "    <tr>\n",
       "      <th>std</th>\n",
       "      <td>375.421985</td>\n",
       "      <td>0.114417</td>\n",
       "      <td>0.065692</td>\n",
       "      <td>1576.681541</td>\n",
       "      <td>142.538952</td>\n",
       "      <td>0.998386</td>\n",
       "      <td>15.495853</td>\n",
       "      <td>0.317747</td>\n",
       "    </tr>\n",
       "    <tr>\n",
       "      <th>min</th>\n",
       "      <td>1.000000</td>\n",
       "      <td>76.333745</td>\n",
       "      <td>11.516913</td>\n",
       "      <td>796.000000</td>\n",
       "      <td>14838.500000</td>\n",
       "      <td>5.592401</td>\n",
       "      <td>190.000000</td>\n",
       "      <td>0.000000</td>\n",
       "    </tr>\n",
       "    <tr>\n",
       "      <th>25%</th>\n",
       "      <td>325.750000</td>\n",
       "      <td>76.432573</td>\n",
       "      <td>11.577342</td>\n",
       "      <td>6555.250000</td>\n",
       "      <td>14894.500000</td>\n",
       "      <td>6.382395</td>\n",
       "      <td>200.000000</td>\n",
       "      <td>0.000000</td>\n",
       "    </tr>\n",
       "    <tr>\n",
       "      <th>50%</th>\n",
       "      <td>650.500000</td>\n",
       "      <td>76.536544</td>\n",
       "      <td>11.633731</td>\n",
       "      <td>7861.000000</td>\n",
       "      <td>14934.000000</td>\n",
       "      <td>7.029086</td>\n",
       "      <td>220.000000</td>\n",
       "      <td>0.000000</td>\n",
       "    </tr>\n",
       "    <tr>\n",
       "      <th>75%</th>\n",
       "      <td>975.250000</td>\n",
       "      <td>76.634688</td>\n",
       "      <td>11.688165</td>\n",
       "      <td>8325.000000</td>\n",
       "      <td>15094.500000</td>\n",
       "      <td>7.743277</td>\n",
       "      <td>230.000000</td>\n",
       "      <td>0.000000</td>\n",
       "    </tr>\n",
       "    <tr>\n",
       "      <th>max</th>\n",
       "      <td>1300.000000</td>\n",
       "      <td>76.747068</td>\n",
       "      <td>11.748242</td>\n",
       "      <td>9890.000000</td>\n",
       "      <td>15343.000000</td>\n",
       "      <td>10.572388</td>\n",
       "      <td>250.000000</td>\n",
       "      <td>1.000000</td>\n",
       "    </tr>\n",
       "  </tbody>\n",
       "</table>\n",
       "</div>"
      ],
      "text/plain": [
       "              OID_     Latitude    Longitude         NDVI           LST  \\\n",
       "count  1300.000000  1300.000000  1300.000000  1300.000000   1300.000000   \n",
       "mean    650.500000    76.533100    11.632975  7226.233077  15003.539615   \n",
       "std     375.421985     0.114417     0.065692  1576.681541    142.538952   \n",
       "min       1.000000    76.333745    11.516913   796.000000  14838.500000   \n",
       "25%     325.750000    76.432573    11.577342  6555.250000  14894.500000   \n",
       "50%     650.500000    76.536544    11.633731  7861.000000  14934.000000   \n",
       "75%     975.250000    76.634688    11.688165  8325.000000  15094.500000   \n",
       "max    1300.000000    76.747068    11.748242  9890.000000  15343.000000   \n",
       "\n",
       "       Precipitation         Wind         Fire  \n",
       "count    1300.000000  1300.000000  1300.000000  \n",
       "mean        7.192514   219.130769     0.113846  \n",
       "std         0.998386    15.495853     0.317747  \n",
       "min         5.592401   190.000000     0.000000  \n",
       "25%         6.382395   200.000000     0.000000  \n",
       "50%         7.029086   220.000000     0.000000  \n",
       "75%         7.743277   230.000000     0.000000  \n",
       "max        10.572388   250.000000     1.000000  "
      ]
     },
     "execution_count": 4,
     "metadata": {},
     "output_type": "execute_result"
    }
   ],
   "source": [
    "df.describe()"
   ]
  },
  {
   "cell_type": "code",
   "execution_count": 5,
   "id": "5f869358",
   "metadata": {},
   "outputs": [
    {
     "data": {
      "text/plain": [
       "OID_             0.000000\n",
       "Latitude        -0.014278\n",
       "Longitude       -0.045623\n",
       "NDVI            -1.353045\n",
       "LST              0.904523\n",
       "Precipitation    0.712943\n",
       "Wind             0.135358\n",
       "Fire             2.434323\n",
       "dtype: float64"
      ]
     },
     "execution_count": 5,
     "metadata": {},
     "output_type": "execute_result"
    }
   ],
   "source": [
    "df.skew()"
   ]
  },
  {
   "cell_type": "code",
   "execution_count": 6,
   "id": "8639b81e",
   "metadata": {},
   "outputs": [
    {
     "data": {
      "text/plain": [
       "(1300, 8)"
      ]
     },
     "execution_count": 6,
     "metadata": {},
     "output_type": "execute_result"
    }
   ],
   "source": [
    "df.shape"
   ]
  },
  {
   "cell_type": "code",
   "execution_count": 7,
   "id": "4b2b326b",
   "metadata": {
    "scrolled": true
   },
   "outputs": [
    {
     "data": {
      "text/plain": [
       "OID_             0\n",
       "Latitude         0\n",
       "Longitude        0\n",
       "NDVI             0\n",
       "LST              0\n",
       "Precipitation    0\n",
       "Wind             0\n",
       "Fire             0\n",
       "dtype: int64"
      ]
     },
     "execution_count": 7,
     "metadata": {},
     "output_type": "execute_result"
    }
   ],
   "source": [
    "df.isnull().sum()"
   ]
  },
  {
   "cell_type": "code",
   "execution_count": 8,
   "id": "c4023fb1",
   "metadata": {},
   "outputs": [
    {
     "data": {
      "text/plain": [
       "0"
      ]
     },
     "execution_count": 8,
     "metadata": {},
     "output_type": "execute_result"
    }
   ],
   "source": [
    "df.duplicated().sum()"
   ]
  },
  {
   "cell_type": "code",
   "execution_count": 9,
   "id": "194b3225",
   "metadata": {},
   "outputs": [
    {
     "data": {
      "image/png": "[encoded data removed]",
      "text/plain": [
       "<Figure size 640x480 with 2 Axes>"
      ]
     },
     "metadata": {},
     "output_type": "display_data"
    }
   ],
   "source": [
    "sns.heatmap(df.corr(),annot=True)\n",
    "plt.show()"
   ]
  },
  {
   "cell_type": "code",
   "execution_count": 10,
   "id": "0b81b1c4",
   "metadata": {},
   "outputs": [
    {
     "data": {
      "image/png": "[encoded data removed]",
      "text/plain": [
       "<Figure size 640x480 with 1 Axes>"
      ]
     },
     "metadata": {},
     "output_type": "display_data"
    },
    {
     "data": {
      "image/png": "[encoded data removed]",
      "text/plain": [
       "<Figure size 640x480 with 1 Axes>"
      ]
     },
     "metadata": {},
     "output_type": "display_data"
    },
    {
     "data": {
      "image/png": "[encoded data removed]",
      "text/plain": [
       "<Figure size 640x480 with 1 Axes>"
      ]
     },
     "metadata": {},
     "output_type": "display_data"
    },
    {
     "data": {
      "image/png": "[encoded data removed]",
      "text/plain": [
       "<Figure size 640x480 with 1 Axes>"
      ]
     },
     "metadata": {},
     "output_type": "display_data"
    },
    {
     "data": {
      "image/png": "[encoded data removed]",
      "text/plain": [
       "<Figure size 640x480 with 1 Axes>"
      ]
     },
     "metadata": {},
     "output_type": "display_data"
    },
    {
     "data": {
      "image/png": "[encoded data removed]",
      "text/plain": [
       "<Figure size 640x480 with 1 Axes>"
      ]
     },
     "metadata": {},
     "output_type": "display_data"
    },
    {
     "data": {
      "image/png": "[encoded data removed]",
      "text/plain": [
       "<Figure size 640x480 with 1 Axes>"
      ]
     },
     "metadata": {},
     "output_type": "display_data"
    },
    {
     "data": {
      "image/png": "[encoded data removed]",
      "text/plain": [
       "<Figure size 640x480 with 1 Axes>"
      ]
     },
     "metadata": {},
     "output_type": "display_data"
    }
   ],
   "source": [
    "for col in df.select_dtypes(include=['int','float']):\n",
    "     sns.boxplot(df[col])\n",
    "     plt.show()"
   ]
  },
  {
   "cell_type": "code",
   "execution_count": 11,
   "id": "d71c9212",
   "metadata": {},
   "outputs": [],
   "source": [
    "def remove_outlier(df):\n",
    "    for col in numerical:\n",
    "        q1=df[col].quantile(0.25)\n",
    "        q3=df[col].quantile(0.75)\n",
    "        iqr=q3-q1\n",
    "        df=df[(df[col]>upper_limit)&(df[col]<lower_limit)]\n",
    "        upper_limit=q3+1.5*iqr\n",
    "        lower_limit=q1-1.5*iqr\n",
    "    return df"
   ]
  },
  {
   "cell_type": "markdown",
   "id": "c7748460",
   "metadata": {},
   "source": [
    "### Splitting the Data "
   ]
  },
  {
   "cell_type": "code",
   "execution_count": 12,
   "id": "daace0c1",
   "metadata": {},
   "outputs": [],
   "source": [
    "x=df.drop(\"Fire\",axis=1)"
   ]
  },
  {
   "cell_type": "code",
   "execution_count": 13,
   "id": "130a75c3",
   "metadata": {},
   "outputs": [],
   "source": [
    "y=df['Fire']"
   ]
  },
  {
   "cell_type": "code",
   "execution_count": 14,
   "id": "67671eee",
   "metadata": {},
   "outputs": [],
   "source": [
    "from sklearn.model_selection import train_test_split\n",
    "\n",
    "x_train, x_test, y_train, y_test = train_test_split(x, y, test_size=0.2, random_state=42)\n"
   ]
  },
  {
   "cell_type": "code",
   "execution_count": 15,
   "id": "ce0aac27",
   "metadata": {},
   "outputs": [
    {
     "data": {
      "text/plain": [
       "RandomForestClassifier(random_state=42)"
      ]
     },
     "execution_count": 15,
     "metadata": {},
     "output_type": "execute_result"
    }
   ],
   "source": [
    "from sklearn.ensemble import RandomForestClassifier\n",
    "\n",
    "# Create a Random Forest classifier with 100 trees\n",
    "classifier = RandomForestClassifier(n_estimators=100, random_state=42)\n",
    "\n",
    "# Fit the classifier to your training data\n",
    "classifier.fit(x_train, y_train)\n"
   ]
  },
  {
   "cell_type": "markdown",
   "id": "79d5c566",
   "metadata": {},
   "source": [
    "scaler=StandardScaler()\n",
    "x_test_scaled=scaler.fit_transform(x_test)\n",
    "x_train_scaled=scaler.transform(x_train)"
   ]
  },
  {
   "cell_type": "code",
   "execution_count": 16,
   "id": "224afd18",
   "metadata": {},
   "outputs": [
    {
     "data": {
      "text/html": [
       "<div>\n",
       "<style scoped>\n",
       "    .dataframe tbody tr th:only-of-type {\n",
       "        vertical-align: middle;\n",
       "    }\n",
       "\n",
       "    .dataframe tbody tr th {\n",
       "        vertical-align: top;\n",
       "    }\n",
       "\n",
       "    .dataframe thead th {\n",
       "        text-align: right;\n",
       "    }\n",
       "</style>\n",
       "<table border=\"1\" class=\"dataframe\">\n",
       "  <thead>\n",
       "    <tr style=\"text-align: right;\">\n",
       "      <th></th>\n",
       "      <th>OID_</th>\n",
       "      <th>Latitude</th>\n",
       "      <th>Longitude</th>\n",
       "      <th>NDVI</th>\n",
       "      <th>LST</th>\n",
       "      <th>Precipitation</th>\n",
       "      <th>Wind</th>\n",
       "    </tr>\n",
       "  </thead>\n",
       "  <tbody>\n",
       "    <tr>\n",
       "      <th>10</th>\n",
       "      <td>11</td>\n",
       "      <td>76.491316</td>\n",
       "      <td>11.654765</td>\n",
       "      <td>8133</td>\n",
       "      <td>14917.0</td>\n",
       "      <td>6.469164</td>\n",
       "      <td>230</td>\n",
       "    </tr>\n",
       "    <tr>\n",
       "      <th>147</th>\n",
       "      <td>148</td>\n",
       "      <td>76.617930</td>\n",
       "      <td>11.629656</td>\n",
       "      <td>8235</td>\n",
       "      <td>14884.0</td>\n",
       "      <td>7.658844</td>\n",
       "      <td>210</td>\n",
       "    </tr>\n",
       "    <tr>\n",
       "      <th>342</th>\n",
       "      <td>343</td>\n",
       "      <td>76.480286</td>\n",
       "      <td>11.607409</td>\n",
       "      <td>8772</td>\n",
       "      <td>14838.5</td>\n",
       "      <td>7.029086</td>\n",
       "      <td>240</td>\n",
       "    </tr>\n",
       "    <tr>\n",
       "      <th>999</th>\n",
       "      <td>1000</td>\n",
       "      <td>76.418299</td>\n",
       "      <td>11.527628</td>\n",
       "      <td>5394</td>\n",
       "      <td>15001.0</td>\n",
       "      <td>8.357499</td>\n",
       "      <td>210</td>\n",
       "    </tr>\n",
       "    <tr>\n",
       "      <th>811</th>\n",
       "      <td>812</td>\n",
       "      <td>76.427754</td>\n",
       "      <td>11.588703</td>\n",
       "      <td>9187</td>\n",
       "      <td>14845.5</td>\n",
       "      <td>7.743277</td>\n",
       "      <td>230</td>\n",
       "    </tr>\n",
       "    <tr>\n",
       "      <th>...</th>\n",
       "      <td>...</td>\n",
       "      <td>...</td>\n",
       "      <td>...</td>\n",
       "      <td>...</td>\n",
       "      <td>...</td>\n",
       "      <td>...</td>\n",
       "      <td>...</td>\n",
       "    </tr>\n",
       "    <tr>\n",
       "      <th>1095</th>\n",
       "      <td>1096</td>\n",
       "      <td>76.644173</td>\n",
       "      <td>11.702377</td>\n",
       "      <td>3649</td>\n",
       "      <td>15150.0</td>\n",
       "      <td>6.523833</td>\n",
       "      <td>200</td>\n",
       "    </tr>\n",
       "    <tr>\n",
       "      <th>1130</th>\n",
       "      <td>1131</td>\n",
       "      <td>76.566265</td>\n",
       "      <td>11.613945</td>\n",
       "      <td>8541</td>\n",
       "      <td>15065.0</td>\n",
       "      <td>7.685979</td>\n",
       "      <td>220</td>\n",
       "    </tr>\n",
       "    <tr>\n",
       "      <th>1294</th>\n",
       "      <td>1295</td>\n",
       "      <td>76.340797</td>\n",
       "      <td>11.720781</td>\n",
       "      <td>6561</td>\n",
       "      <td>14908.5</td>\n",
       "      <td>8.245896</td>\n",
       "      <td>240</td>\n",
       "    </tr>\n",
       "    <tr>\n",
       "      <th>860</th>\n",
       "      <td>861</td>\n",
       "      <td>76.715314</td>\n",
       "      <td>11.706181</td>\n",
       "      <td>3771</td>\n",
       "      <td>15316.0</td>\n",
       "      <td>6.838892</td>\n",
       "      <td>200</td>\n",
       "    </tr>\n",
       "    <tr>\n",
       "      <th>1126</th>\n",
       "      <td>1127</td>\n",
       "      <td>76.423074</td>\n",
       "      <td>11.679111</td>\n",
       "      <td>7868</td>\n",
       "      <td>14925.5</td>\n",
       "      <td>6.398007</td>\n",
       "      <td>230</td>\n",
       "    </tr>\n",
       "  </tbody>\n",
       "</table>\n",
       "<p>1040 rows × 7 columns</p>\n",
       "</div>"
      ],
      "text/plain": [
       "      OID_   Latitude  Longitude  NDVI      LST  Precipitation  Wind\n",
       "10      11  76.491316  11.654765  8133  14917.0       6.469164   230\n",
       "147    148  76.617930  11.629656  8235  14884.0       7.658844   210\n",
       "342    343  76.480286  11.607409  8772  14838.5       7.029086   240\n",
       "999   1000  76.418299  11.527628  5394  15001.0       8.357499   210\n",
       "811    812  76.427754  11.588703  9187  14845.5       7.743277   230\n",
       "...    ...        ...        ...   ...      ...            ...   ...\n",
       "1095  1096  76.644173  11.702377  3649  15150.0       6.523833   200\n",
       "1130  1131  76.566265  11.613945  8541  15065.0       7.685979   220\n",
       "1294  1295  76.340797  11.720781  6561  14908.5       8.245896   240\n",
       "860    861  76.715314  11.706181  3771  15316.0       6.838892   200\n",
       "1126  1127  76.423074  11.679111  7868  14925.5       6.398007   230\n",
       "\n",
       "[1040 rows x 7 columns]"
      ]
     },
     "execution_count": 16,
     "metadata": {},
     "output_type": "execute_result"
    }
   ],
   "source": [
    "x_train"
   ]
  },
  {
   "cell_type": "code",
   "execution_count": 17,
   "id": "1b1c1cf7",
   "metadata": {},
   "outputs": [
    {
     "data": {
      "text/html": [
       "<div>\n",
       "<style scoped>\n",
       "    .dataframe tbody tr th:only-of-type {\n",
       "        vertical-align: middle;\n",
       "    }\n",
       "\n",
       "    .dataframe tbody tr th {\n",
       "        vertical-align: top;\n",
       "    }\n",
       "\n",
       "    .dataframe thead th {\n",
       "        text-align: right;\n",
       "    }\n",
       "</style>\n",
       "<table border=\"1\" class=\"dataframe\">\n",
       "  <thead>\n",
       "    <tr style=\"text-align: right;\">\n",
       "      <th></th>\n",
       "      <th>OID_</th>\n",
       "      <th>Latitude</th>\n",
       "      <th>Longitude</th>\n",
       "      <th>NDVI</th>\n",
       "      <th>LST</th>\n",
       "      <th>Precipitation</th>\n",
       "      <th>Wind</th>\n",
       "    </tr>\n",
       "  </thead>\n",
       "  <tbody>\n",
       "    <tr>\n",
       "      <th>478</th>\n",
       "      <td>479</td>\n",
       "      <td>76.393606</td>\n",
       "      <td>11.588623</td>\n",
       "      <td>6070</td>\n",
       "      <td>14867.5</td>\n",
       "      <td>9.684379</td>\n",
       "      <td>220</td>\n",
       "    </tr>\n",
       "    <tr>\n",
       "      <th>721</th>\n",
       "      <td>722</td>\n",
       "      <td>76.540655</td>\n",
       "      <td>11.635380</td>\n",
       "      <td>8465</td>\n",
       "      <td>14871.0</td>\n",
       "      <td>8.472587</td>\n",
       "      <td>230</td>\n",
       "    </tr>\n",
       "    <tr>\n",
       "      <th>312</th>\n",
       "      <td>313</td>\n",
       "      <td>76.549819</td>\n",
       "      <td>11.541117</td>\n",
       "      <td>8892</td>\n",
       "      <td>14875.0</td>\n",
       "      <td>7.496383</td>\n",
       "      <td>230</td>\n",
       "    </tr>\n",
       "    <tr>\n",
       "      <th>660</th>\n",
       "      <td>661</td>\n",
       "      <td>76.669256</td>\n",
       "      <td>11.737801</td>\n",
       "      <td>5083</td>\n",
       "      <td>15233.0</td>\n",
       "      <td>5.592401</td>\n",
       "      <td>210</td>\n",
       "    </tr>\n",
       "    <tr>\n",
       "      <th>823</th>\n",
       "      <td>824</td>\n",
       "      <td>76.663537</td>\n",
       "      <td>11.690081</td>\n",
       "      <td>5561</td>\n",
       "      <td>15150.0</td>\n",
       "      <td>6.382395</td>\n",
       "      <td>200</td>\n",
       "    </tr>\n",
       "    <tr>\n",
       "      <th>...</th>\n",
       "      <td>...</td>\n",
       "      <td>...</td>\n",
       "      <td>...</td>\n",
       "      <td>...</td>\n",
       "      <td>...</td>\n",
       "      <td>...</td>\n",
       "      <td>...</td>\n",
       "    </tr>\n",
       "    <tr>\n",
       "      <th>306</th>\n",
       "      <td>307</td>\n",
       "      <td>76.469046</td>\n",
       "      <td>11.652745</td>\n",
       "      <td>8371</td>\n",
       "      <td>14917.0</td>\n",
       "      <td>6.469164</td>\n",
       "      <td>230</td>\n",
       "    </tr>\n",
       "    <tr>\n",
       "      <th>199</th>\n",
       "      <td>200</td>\n",
       "      <td>76.486037</td>\n",
       "      <td>11.594697</td>\n",
       "      <td>7673</td>\n",
       "      <td>14838.5</td>\n",
       "      <td>7.441061</td>\n",
       "      <td>240</td>\n",
       "    </tr>\n",
       "    <tr>\n",
       "      <th>296</th>\n",
       "      <td>297</td>\n",
       "      <td>76.454814</td>\n",
       "      <td>11.614029</td>\n",
       "      <td>7900</td>\n",
       "      <td>14845.5</td>\n",
       "      <td>7.029086</td>\n",
       "      <td>230</td>\n",
       "    </tr>\n",
       "    <tr>\n",
       "      <th>286</th>\n",
       "      <td>287</td>\n",
       "      <td>76.571696</td>\n",
       "      <td>11.572024</td>\n",
       "      <td>8246</td>\n",
       "      <td>14952.5</td>\n",
       "      <td>7.158677</td>\n",
       "      <td>250</td>\n",
       "    </tr>\n",
       "    <tr>\n",
       "      <th>826</th>\n",
       "      <td>827</td>\n",
       "      <td>76.643264</td>\n",
       "      <td>11.650276</td>\n",
       "      <td>6357</td>\n",
       "      <td>15208.0</td>\n",
       "      <td>6.592133</td>\n",
       "      <td>200</td>\n",
       "    </tr>\n",
       "  </tbody>\n",
       "</table>\n",
       "<p>260 rows × 7 columns</p>\n",
       "</div>"
      ],
      "text/plain": [
       "     OID_   Latitude  Longitude  NDVI      LST  Precipitation  Wind\n",
       "478   479  76.393606  11.588623  6070  14867.5       9.684379   220\n",
       "721   722  76.540655  11.635380  8465  14871.0       8.472587   230\n",
       "312   313  76.549819  11.541117  8892  14875.0       7.496383   230\n",
       "660   661  76.669256  11.737801  5083  15233.0       5.592401   210\n",
       "823   824  76.663537  11.690081  5561  15150.0       6.382395   200\n",
       "..    ...        ...        ...   ...      ...            ...   ...\n",
       "306   307  76.469046  11.652745  8371  14917.0       6.469164   230\n",
       "199   200  76.486037  11.594697  7673  14838.5       7.441061   240\n",
       "296   297  76.454814  11.614029  7900  14845.5       7.029086   230\n",
       "286   287  76.571696  11.572024  8246  14952.5       7.158677   250\n",
       "826   827  76.643264  11.650276  6357  15208.0       6.592133   200\n",
       "\n",
       "[260 rows x 7 columns]"
      ]
     },
     "execution_count": 17,
     "metadata": {},
     "output_type": "execute_result"
    }
   ],
   "source": [
    "x_test"
   ]
  },
  {
   "cell_type": "code",
   "execution_count": 18,
   "id": "d1c0dd6f",
   "metadata": {},
   "outputs": [],
   "source": [
    "model_object=RandomForestClassifier()"
   ]
  },
  {
   "cell_type": "code",
   "execution_count": 19,
   "id": "89056123",
   "metadata": {},
   "outputs": [
    {
     "data": {
      "text/plain": [
       "RandomForestClassifier()"
      ]
     },
     "execution_count": 19,
     "metadata": {},
     "output_type": "execute_result"
    }
   ],
   "source": [
    "model_object.fit(x_train,y_train)"
   ]
  },
  {
   "cell_type": "code",
   "execution_count": 20,
   "id": "007b0bbf",
   "metadata": {},
   "outputs": [],
   "source": [
    "y_pred=model_object.predict(x_test)"
   ]
  },
  {
   "cell_type": "code",
   "execution_count": 21,
   "id": "019eb677",
   "metadata": {},
   "outputs": [
    {
     "data": {
      "text/plain": [
       "array([0, 0, 0, 0, 1, 0, 0, 0, 0, 0, 0, 0, 0, 0, 0, 1, 0, 1, 0, 0, 0, 0,\n",
       "       0, 0, 0, 0, 1, 1, 0, 0, 0, 0, 0, 0, 0, 0, 0, 0, 0, 0, 0, 0, 0, 0,\n",
       "       1, 0, 0, 1, 0, 0, 0, 0, 0, 0, 0, 0, 0, 0, 0, 0, 0, 0, 0, 0, 0, 1,\n",
       "       0, 0, 0, 0, 0, 1, 0, 0, 0, 0, 0, 0, 1, 0, 0, 0, 0, 0, 0, 0, 1, 0,\n",
       "       0, 1, 0, 0, 0, 0, 0, 0, 0, 0, 0, 1, 0, 0, 0, 0, 0, 0, 1, 0, 0, 0,\n",
       "       0, 0, 0, 0, 0, 0, 0, 0, 0, 0, 0, 0, 0, 0, 1, 0, 0, 1, 0, 0, 0, 0,\n",
       "       0, 0, 0, 0, 1, 0, 0, 0, 0, 1, 0, 0, 0, 0, 1, 0, 1, 1, 0, 0, 1, 0,\n",
       "       0, 0, 0, 0, 0, 0, 0, 0, 0, 0, 0, 0, 0, 0, 1, 0, 0, 0, 0, 0, 0, 0,\n",
       "       0, 0, 0, 0, 0, 0, 0, 0, 0, 0, 1, 0, 0, 0, 1, 0, 0, 0, 0, 0, 0, 0,\n",
       "       0, 0, 0, 0, 0, 0, 0, 0, 0, 0, 0, 0, 0, 0, 0, 0, 0, 0, 0, 0, 0, 1,\n",
       "       1, 0, 0, 0, 0, 0, 0, 0, 0, 1, 0, 0, 0, 0, 1, 0, 0, 0, 0, 0, 0, 1,\n",
       "       0, 0, 0, 0, 0, 0, 1, 0, 0, 0, 0, 0, 0, 0, 0, 0, 0, 0], dtype=int64)"
      ]
     },
     "execution_count": 21,
     "metadata": {},
     "output_type": "execute_result"
    }
   ],
   "source": [
    "y_pred"
   ]
  },
  {
   "cell_type": "markdown",
   "id": "65087192",
   "metadata": {},
   "source": [
    "### Model Evaluation"
   ]
  },
  {
   "cell_type": "code",
   "execution_count": 22,
   "id": "a397964c",
   "metadata": {},
   "outputs": [],
   "source": [
    "y_train_pred=model_object.predict(x_train)"
   ]
  },
  {
   "cell_type": "code",
   "execution_count": 23,
   "id": "554962c6",
   "metadata": {},
   "outputs": [
    {
     "data": {
      "text/plain": [
       "0.9615384615384616"
      ]
     },
     "execution_count": 23,
     "metadata": {},
     "output_type": "execute_result"
    }
   ],
   "source": [
    "metrics.accuracy_score(y_test,y_pred)"
   ]
  },
  {
   "cell_type": "markdown",
   "id": "b787611a",
   "metadata": {},
   "source": [
    "metrics.accuracy_score(y_train,y_train_pred)"
   ]
  },
  {
   "cell_type": "code",
   "execution_count": 24,
   "id": "1848f71d",
   "metadata": {},
   "outputs": [
    {
     "name": "stdout",
     "output_type": "stream",
     "text": [
      "              precision    recall  f1-score   support\n",
      "\n",
      "           0       0.96      1.00      0.98       221\n",
      "           1       0.97      0.77      0.86        39\n",
      "\n",
      "    accuracy                           0.96       260\n",
      "   macro avg       0.96      0.88      0.92       260\n",
      "weighted avg       0.96      0.96      0.96       260\n",
      "\n"
     ]
    }
   ],
   "source": [
    "print(metrics.classification_report(y_test, y_pred))"
   ]
  },
  {
   "cell_type": "code",
   "execution_count": 25,
   "id": "d5b8cce2",
   "metadata": {},
   "outputs": [
    {
     "name": "stdout",
     "output_type": "stream",
     "text": [
      "[[220   1]\n",
      " [  9  30]]\n"
     ]
    }
   ],
   "source": [
    "print(metrics.confusion_matrix(y_test,y_pred))"
   ]
  },
  {
   "cell_type": "code",
   "execution_count": 26,
   "id": "621d0cd0",
   "metadata": {},
   "outputs": [
    {
     "data": {
      "text/plain": [
       "array([[220,   1],\n",
       "       [  9,  30]], dtype=int64)"
      ]
     },
     "execution_count": 26,
     "metadata": {},
     "output_type": "execute_result"
    }
   ],
   "source": [
    "c_matrix=confusion_matrix(y_test,y_pred)\n",
    "c_matrix"
   ]
  },
  {
   "cell_type": "code",
   "execution_count": 27,
   "id": "9e7f3ce8",
   "metadata": {},
   "outputs": [
    {
     "data": {
      "image/png": "[encoded data removed]",
      "text/plain": [
       "<Figure size 640x480 with 2 Axes>"
      ]
     },
     "metadata": {},
     "output_type": "display_data"
    }
   ],
   "source": [
    "sns.heatmap(c_matrix,annot=True,cmap='Greens')\n",
    "plt.xlabel(\"Predicted Labels\")\n",
    "plt.ylabel(\"True Labels\")\n",
    "plt.show()"
   ]
  },
  {
   "cell_type": "code",
   "execution_count": 28,
   "id": "7a3fcb37",
   "metadata": {},
   "outputs": [
    {
     "name": "stdout",
     "output_type": "stream",
     "text": [
      "Model saved to trained_model.joblib\n"
     ]
    }
   ],
   "source": [
    "import joblib\n",
    "model_filename = \"trained_model.joblib\"\n",
    "joblib.dump(RandomForestClassifier, model_filename)\n",
    "print(f\"Model saved to {model_filename}\")"
   ]
  },
  {
   "cell_type": "code",
   "execution_count": 29,
   "id": "aae72955",
   "metadata": {},
   "outputs": [],
   "source": [
    "model_filename=\"trained_model.joblib\"\n",
    "model=joblib.load(model_filename)"
   ]
  },
  {
   "cell_type": "code",
   "execution_count": 30,
   "id": "cbc93920",
   "metadata": {},
   "outputs": [
    {
     "data": {
      "text/html": [
       "<div>\n",
       "<style scoped>\n",
       "    .dataframe tbody tr th:only-of-type {\n",
       "        vertical-align: middle;\n",
       "    }\n",
       "\n",
       "    .dataframe tbody tr th {\n",
       "        vertical-align: top;\n",
       "    }\n",
       "\n",
       "    .dataframe thead th {\n",
       "        text-align: right;\n",
       "    }\n",
       "</style>\n",
       "<table border=\"1\" class=\"dataframe\">\n",
       "  <thead>\n",
       "    <tr style=\"text-align: right;\">\n",
       "      <th></th>\n",
       "      <th>OID_</th>\n",
       "      <th>Latitude</th>\n",
       "      <th>Longitude</th>\n",
       "      <th>NDVI</th>\n",
       "      <th>LST</th>\n",
       "      <th>Precipitation</th>\n",
       "      <th>Wind</th>\n",
       "    </tr>\n",
       "  </thead>\n",
       "  <tbody>\n",
       "    <tr>\n",
       "      <th>0</th>\n",
       "      <td>1</td>\n",
       "      <td>77.121697</td>\n",
       "      <td>8.760545</td>\n",
       "      <td>7961</td>\n",
       "      <td>14776.666667</td>\n",
       "      <td>2.090874</td>\n",
       "      <td>170</td>\n",
       "    </tr>\n",
       "    <tr>\n",
       "      <th>1</th>\n",
       "      <td>2</td>\n",
       "      <td>76.232037</td>\n",
       "      <td>11.559951</td>\n",
       "      <td>7503</td>\n",
       "      <td>14961.000000</td>\n",
       "      <td>0.000000</td>\n",
       "      <td>160</td>\n",
       "    </tr>\n",
       "    <tr>\n",
       "      <th>2</th>\n",
       "      <td>3</td>\n",
       "      <td>75.323985</td>\n",
       "      <td>12.152825</td>\n",
       "      <td>8234</td>\n",
       "      <td>15299.200000</td>\n",
       "      <td>0.000000</td>\n",
       "      <td>220</td>\n",
       "    </tr>\n",
       "    <tr>\n",
       "      <th>3</th>\n",
       "      <td>4</td>\n",
       "      <td>76.773775</td>\n",
       "      <td>9.120047</td>\n",
       "      <td>7222</td>\n",
       "      <td>15159.250000</td>\n",
       "      <td>1.611339</td>\n",
       "      <td>190</td>\n",
       "    </tr>\n",
       "    <tr>\n",
       "      <th>4</th>\n",
       "      <td>5</td>\n",
       "      <td>77.021116</td>\n",
       "      <td>9.727707</td>\n",
       "      <td>7629</td>\n",
       "      <td>14929.500000</td>\n",
       "      <td>0.000000</td>\n",
       "      <td>165</td>\n",
       "    </tr>\n",
       "    <tr>\n",
       "      <th>...</th>\n",
       "      <td>...</td>\n",
       "      <td>...</td>\n",
       "      <td>...</td>\n",
       "      <td>...</td>\n",
       "      <td>...</td>\n",
       "      <td>...</td>\n",
       "      <td>...</td>\n",
       "    </tr>\n",
       "    <tr>\n",
       "      <th>1465</th>\n",
       "      <td>1466</td>\n",
       "      <td>76.296865</td>\n",
       "      <td>11.627734</td>\n",
       "      <td>6054</td>\n",
       "      <td>15026.000000</td>\n",
       "      <td>0.000000</td>\n",
       "      <td>155</td>\n",
       "    </tr>\n",
       "    <tr>\n",
       "      <th>1466</th>\n",
       "      <td>1467</td>\n",
       "      <td>76.218801</td>\n",
       "      <td>11.316840</td>\n",
       "      <td>8224</td>\n",
       "      <td>15307.200000</td>\n",
       "      <td>0.000000</td>\n",
       "      <td>170</td>\n",
       "    </tr>\n",
       "    <tr>\n",
       "      <th>1467</th>\n",
       "      <td>1468</td>\n",
       "      <td>76.372016</td>\n",
       "      <td>9.661238</td>\n",
       "      <td>7627</td>\n",
       "      <td>15228.500000</td>\n",
       "      <td>0.000000</td>\n",
       "      <td>205</td>\n",
       "    </tr>\n",
       "    <tr>\n",
       "      <th>1468</th>\n",
       "      <td>1469</td>\n",
       "      <td>76.204320</td>\n",
       "      <td>11.513243</td>\n",
       "      <td>7666</td>\n",
       "      <td>14998.000000</td>\n",
       "      <td>0.000000</td>\n",
       "      <td>170</td>\n",
       "    </tr>\n",
       "    <tr>\n",
       "      <th>1469</th>\n",
       "      <td>1470</td>\n",
       "      <td>76.896826</td>\n",
       "      <td>9.776615</td>\n",
       "      <td>8790</td>\n",
       "      <td>14962.250000</td>\n",
       "      <td>0.000000</td>\n",
       "      <td>170</td>\n",
       "    </tr>\n",
       "  </tbody>\n",
       "</table>\n",
       "<p>1470 rows × 7 columns</p>\n",
       "</div>"
      ],
      "text/plain": [
       "      OID_   Latitude  Longitude  NDVI           LST  Precipitation  Wind\n",
       "0        1  77.121697   8.760545  7961  14776.666667       2.090874   170\n",
       "1        2  76.232037  11.559951  7503  14961.000000       0.000000   160\n",
       "2        3  75.323985  12.152825  8234  15299.200000       0.000000   220\n",
       "3        4  76.773775   9.120047  7222  15159.250000       1.611339   190\n",
       "4        5  77.021116   9.727707  7629  14929.500000       0.000000   165\n",
       "...    ...        ...        ...   ...           ...            ...   ...\n",
       "1465  1466  76.296865  11.627734  6054  15026.000000       0.000000   155\n",
       "1466  1467  76.218801  11.316840  8224  15307.200000       0.000000   170\n",
       "1467  1468  76.372016   9.661238  7627  15228.500000       0.000000   205\n",
       "1468  1469  76.204320  11.513243  7666  14998.000000       0.000000   170\n",
       "1469  1470  76.896826   9.776615  8790  14962.250000       0.000000   170\n",
       "\n",
       "[1470 rows x 7 columns]"
      ]
     },
     "execution_count": 30,
     "metadata": {},
     "output_type": "execute_result"
    }
   ],
   "source": [
    "new=pd.read_csv(r\"C:\\Users\\Asus\\Desktop\\1500csv.csv\")\n",
    "new"
   ]
  },
  {
   "cell_type": "code",
   "execution_count": 31,
   "id": "75f749b1",
   "metadata": {},
   "outputs": [
    {
     "data": {
      "text/plain": [
       "(1470, 7)"
      ]
     },
     "execution_count": 31,
     "metadata": {},
     "output_type": "execute_result"
    }
   ],
   "source": [
    "new.shape"
   ]
  },
  {
   "cell_type": "code",
   "execution_count": 32,
   "id": "f2605906",
   "metadata": {},
   "outputs": [
    {
     "data": {
      "text/plain": [
       "(1040, 7)"
      ]
     },
     "execution_count": 32,
     "metadata": {},
     "output_type": "execute_result"
    }
   ],
   "source": [
    "x_train.shape"
   ]
  },
  {
   "cell_type": "code",
   "execution_count": 33,
   "id": "d3ea0326",
   "metadata": {},
   "outputs": [
    {
     "data": {
      "text/plain": [
       "OID_             0\n",
       "Latitude         0\n",
       "Longitude        0\n",
       "NDVI             0\n",
       "LST              0\n",
       "Precipitation    0\n",
       "Wind             0\n",
       "dtype: int64"
      ]
     },
     "execution_count": 33,
     "metadata": {},
     "output_type": "execute_result"
    }
   ],
   "source": [
    "new.isnull().sum()"
   ]
  },
  {
   "cell_type": "code",
   "execution_count": 34,
   "id": "110b07f7",
   "metadata": {},
   "outputs": [
    {
     "data": {
      "text/html": [
       "<div>\n",
       "<style scoped>\n",
       "    .dataframe tbody tr th:only-of-type {\n",
       "        vertical-align: middle;\n",
       "    }\n",
       "\n",
       "    .dataframe tbody tr th {\n",
       "        vertical-align: top;\n",
       "    }\n",
       "\n",
       "    .dataframe thead th {\n",
       "        text-align: right;\n",
       "    }\n",
       "</style>\n",
       "<table border=\"1\" class=\"dataframe\">\n",
       "  <thead>\n",
       "    <tr style=\"text-align: right;\">\n",
       "      <th></th>\n",
       "      <th>OID_</th>\n",
       "      <th>Latitude</th>\n",
       "      <th>Longitude</th>\n",
       "      <th>NDVI</th>\n",
       "      <th>LST</th>\n",
       "      <th>Precipitation</th>\n",
       "      <th>Wind</th>\n",
       "    </tr>\n",
       "  </thead>\n",
       "  <tbody>\n",
       "    <tr>\n",
       "      <th>10</th>\n",
       "      <td>11</td>\n",
       "      <td>76.491316</td>\n",
       "      <td>11.654765</td>\n",
       "      <td>8133</td>\n",
       "      <td>14917.0</td>\n",
       "      <td>6.469164</td>\n",
       "      <td>230</td>\n",
       "    </tr>\n",
       "    <tr>\n",
       "      <th>147</th>\n",
       "      <td>148</td>\n",
       "      <td>76.617930</td>\n",
       "      <td>11.629656</td>\n",
       "      <td>8235</td>\n",
       "      <td>14884.0</td>\n",
       "      <td>7.658844</td>\n",
       "      <td>210</td>\n",
       "    </tr>\n",
       "    <tr>\n",
       "      <th>342</th>\n",
       "      <td>343</td>\n",
       "      <td>76.480286</td>\n",
       "      <td>11.607409</td>\n",
       "      <td>8772</td>\n",
       "      <td>14838.5</td>\n",
       "      <td>7.029086</td>\n",
       "      <td>240</td>\n",
       "    </tr>\n",
       "    <tr>\n",
       "      <th>999</th>\n",
       "      <td>1000</td>\n",
       "      <td>76.418299</td>\n",
       "      <td>11.527628</td>\n",
       "      <td>5394</td>\n",
       "      <td>15001.0</td>\n",
       "      <td>8.357499</td>\n",
       "      <td>210</td>\n",
       "    </tr>\n",
       "    <tr>\n",
       "      <th>811</th>\n",
       "      <td>812</td>\n",
       "      <td>76.427754</td>\n",
       "      <td>11.588703</td>\n",
       "      <td>9187</td>\n",
       "      <td>14845.5</td>\n",
       "      <td>7.743277</td>\n",
       "      <td>230</td>\n",
       "    </tr>\n",
       "    <tr>\n",
       "      <th>...</th>\n",
       "      <td>...</td>\n",
       "      <td>...</td>\n",
       "      <td>...</td>\n",
       "      <td>...</td>\n",
       "      <td>...</td>\n",
       "      <td>...</td>\n",
       "      <td>...</td>\n",
       "    </tr>\n",
       "    <tr>\n",
       "      <th>1095</th>\n",
       "      <td>1096</td>\n",
       "      <td>76.644173</td>\n",
       "      <td>11.702377</td>\n",
       "      <td>3649</td>\n",
       "      <td>15150.0</td>\n",
       "      <td>6.523833</td>\n",
       "      <td>200</td>\n",
       "    </tr>\n",
       "    <tr>\n",
       "      <th>1130</th>\n",
       "      <td>1131</td>\n",
       "      <td>76.566265</td>\n",
       "      <td>11.613945</td>\n",
       "      <td>8541</td>\n",
       "      <td>15065.0</td>\n",
       "      <td>7.685979</td>\n",
       "      <td>220</td>\n",
       "    </tr>\n",
       "    <tr>\n",
       "      <th>1294</th>\n",
       "      <td>1295</td>\n",
       "      <td>76.340797</td>\n",
       "      <td>11.720781</td>\n",
       "      <td>6561</td>\n",
       "      <td>14908.5</td>\n",
       "      <td>8.245896</td>\n",
       "      <td>240</td>\n",
       "    </tr>\n",
       "    <tr>\n",
       "      <th>860</th>\n",
       "      <td>861</td>\n",
       "      <td>76.715314</td>\n",
       "      <td>11.706181</td>\n",
       "      <td>3771</td>\n",
       "      <td>15316.0</td>\n",
       "      <td>6.838892</td>\n",
       "      <td>200</td>\n",
       "    </tr>\n",
       "    <tr>\n",
       "      <th>1126</th>\n",
       "      <td>1127</td>\n",
       "      <td>76.423074</td>\n",
       "      <td>11.679111</td>\n",
       "      <td>7868</td>\n",
       "      <td>14925.5</td>\n",
       "      <td>6.398007</td>\n",
       "      <td>230</td>\n",
       "    </tr>\n",
       "  </tbody>\n",
       "</table>\n",
       "<p>1040 rows × 7 columns</p>\n",
       "</div>"
      ],
      "text/plain": [
       "      OID_   Latitude  Longitude  NDVI      LST  Precipitation  Wind\n",
       "10      11  76.491316  11.654765  8133  14917.0       6.469164   230\n",
       "147    148  76.617930  11.629656  8235  14884.0       7.658844   210\n",
       "342    343  76.480286  11.607409  8772  14838.5       7.029086   240\n",
       "999   1000  76.418299  11.527628  5394  15001.0       8.357499   210\n",
       "811    812  76.427754  11.588703  9187  14845.5       7.743277   230\n",
       "...    ...        ...        ...   ...      ...            ...   ...\n",
       "1095  1096  76.644173  11.702377  3649  15150.0       6.523833   200\n",
       "1130  1131  76.566265  11.613945  8541  15065.0       7.685979   220\n",
       "1294  1295  76.340797  11.720781  6561  14908.5       8.245896   240\n",
       "860    861  76.715314  11.706181  3771  15316.0       6.838892   200\n",
       "1126  1127  76.423074  11.679111  7868  14925.5       6.398007   230\n",
       "\n",
       "[1040 rows x 7 columns]"
      ]
     },
     "execution_count": 34,
     "metadata": {},
     "output_type": "execute_result"
    }
   ],
   "source": [
    "x_train"
   ]
  },
  {
   "cell_type": "code",
   "execution_count": 35,
   "id": "711482a5",
   "metadata": {},
   "outputs": [],
   "source": [
    "scaler = StandardScaler()\n",
    "x_test_scaled = scaler.fit_transform(x_test)\n",
    "x_train_scaled = scaler.transform(x_train)\n"
   ]
  },
  {
   "cell_type": "code",
   "execution_count": 36,
   "id": "4d30d8a1",
   "metadata": {},
   "outputs": [],
   "source": [
    "import pandas as pd\n",
    "\n",
    "# Convert the NumPy array to a DataFrame\n",
    "x_train_scaled_df = pd.DataFrame(x_train_scaled, columns=x_train.columns)\n"
   ]
  },
  {
   "cell_type": "code",
   "execution_count": 37,
   "id": "86ad7653",
   "metadata": {
    "scrolled": true
   },
   "outputs": [],
   "source": [
    "# Assuming you have a trained model named 'model_object' and 'test_data' is your test feature data\n",
    "test_data = new[x_train_scaled_df.columns]\n",
    "predictions = model_object.predict(test_data)\n"
   ]
  },
  {
   "cell_type": "code",
   "execution_count": 38,
   "id": "31ab76b8",
   "metadata": {},
   "outputs": [],
   "source": [
    "test_data = new[x_train.columns]\n",
    "predictions = model_object.predict(test_data)"
   ]
  },
  {
   "cell_type": "code",
   "execution_count": 39,
   "id": "883e1a1f",
   "metadata": {},
   "outputs": [
    {
     "data": {
      "text/html": [
       "<div>\n",
       "<style scoped>\n",
       "    .dataframe tbody tr th:only-of-type {\n",
       "        vertical-align: middle;\n",
       "    }\n",
       "\n",
       "    .dataframe tbody tr th {\n",
       "        vertical-align: top;\n",
       "    }\n",
       "\n",
       "    .dataframe thead th {\n",
       "        text-align: right;\n",
       "    }\n",
       "</style>\n",
       "<table border=\"1\" class=\"dataframe\">\n",
       "  <thead>\n",
       "    <tr style=\"text-align: right;\">\n",
       "      <th></th>\n",
       "      <th>OID_</th>\n",
       "      <th>Latitude</th>\n",
       "      <th>Longitude</th>\n",
       "      <th>NDVI</th>\n",
       "      <th>LST</th>\n",
       "      <th>Precipitation</th>\n",
       "      <th>Wind</th>\n",
       "    </tr>\n",
       "  </thead>\n",
       "  <tbody>\n",
       "    <tr>\n",
       "      <th>0</th>\n",
       "      <td>-1.715544</td>\n",
       "      <td>-0.375860</td>\n",
       "      <td>0.226936</td>\n",
       "      <td>0.587132</td>\n",
       "      <td>-0.642593</td>\n",
       "      <td>-0.676307</td>\n",
       "      <td>0.784535</td>\n",
       "    </tr>\n",
       "    <tr>\n",
       "      <th>1</th>\n",
       "      <td>-1.338752</td>\n",
       "      <td>0.692436</td>\n",
       "      <td>-0.148977</td>\n",
       "      <td>0.649771</td>\n",
       "      <td>-0.872095</td>\n",
       "      <td>0.441312</td>\n",
       "      <td>-0.518846</td>\n",
       "    </tr>\n",
       "    <tr>\n",
       "      <th>2</th>\n",
       "      <td>-0.802443</td>\n",
       "      <td>-0.468932</td>\n",
       "      <td>-0.482050</td>\n",
       "      <td>0.979547</td>\n",
       "      <td>-1.188530</td>\n",
       "      <td>-0.150300</td>\n",
       "      <td>1.436226</td>\n",
       "    </tr>\n",
       "    <tr>\n",
       "      <th>3</th>\n",
       "      <td>1.004506</td>\n",
       "      <td>-0.991941</td>\n",
       "      <td>-1.676504</td>\n",
       "      <td>-1.094909</td>\n",
       "      <td>-0.058405</td>\n",
       "      <td>1.097648</td>\n",
       "      <td>-0.518846</td>\n",
       "    </tr>\n",
       "    <tr>\n",
       "      <th>4</th>\n",
       "      <td>0.487449</td>\n",
       "      <td>-0.912160</td>\n",
       "      <td>-0.762117</td>\n",
       "      <td>1.234402</td>\n",
       "      <td>-1.139847</td>\n",
       "      <td>0.520630</td>\n",
       "      <td>0.784535</td>\n",
       "    </tr>\n",
       "    <tr>\n",
       "      <th>...</th>\n",
       "      <td>...</td>\n",
       "      <td>...</td>\n",
       "      <td>...</td>\n",
       "      <td>...</td>\n",
       "      <td>...</td>\n",
       "      <td>...</td>\n",
       "      <td>...</td>\n",
       "    </tr>\n",
       "    <tr>\n",
       "      <th>1035</th>\n",
       "      <td>1.268535</td>\n",
       "      <td>0.913854</td>\n",
       "      <td>0.939776</td>\n",
       "      <td>-2.166528</td>\n",
       "      <td>0.977832</td>\n",
       "      <td>-0.624949</td>\n",
       "      <td>-1.170536</td>\n",
       "    </tr>\n",
       "    <tr>\n",
       "      <th>1036</th>\n",
       "      <td>1.364795</td>\n",
       "      <td>0.256516</td>\n",
       "      <td>-0.384197</td>\n",
       "      <td>0.837688</td>\n",
       "      <td>0.386690</td>\n",
       "      <td>0.466803</td>\n",
       "      <td>0.132845</td>\n",
       "    </tr>\n",
       "    <tr>\n",
       "      <th>1037</th>\n",
       "      <td>1.815845</td>\n",
       "      <td>-1.645858</td>\n",
       "      <td>1.215307</td>\n",
       "      <td>-0.378246</td>\n",
       "      <td>-0.701707</td>\n",
       "      <td>0.992805</td>\n",
       "      <td>1.436226</td>\n",
       "    </tr>\n",
       "    <tr>\n",
       "      <th>1038</th>\n",
       "      <td>0.622214</td>\n",
       "      <td>1.514104</td>\n",
       "      <td>0.996716</td>\n",
       "      <td>-2.091607</td>\n",
       "      <td>2.132297</td>\n",
       "      <td>-0.328974</td>\n",
       "      <td>-1.170536</td>\n",
       "    </tr>\n",
       "    <tr>\n",
       "      <th>1039</th>\n",
       "      <td>1.353794</td>\n",
       "      <td>-0.951649</td>\n",
       "      <td>0.591439</td>\n",
       "      <td>0.424393</td>\n",
       "      <td>-0.583479</td>\n",
       "      <td>-0.743154</td>\n",
       "      <td>0.784535</td>\n",
       "    </tr>\n",
       "  </tbody>\n",
       "</table>\n",
       "<p>1040 rows × 7 columns</p>\n",
       "</div>"
      ],
      "text/plain": [
       "          OID_  Latitude  Longitude      NDVI       LST  Precipitation  \\\n",
       "0    -1.715544 -0.375860   0.226936  0.587132 -0.642593      -0.676307   \n",
       "1    -1.338752  0.692436  -0.148977  0.649771 -0.872095       0.441312   \n",
       "2    -0.802443 -0.468932  -0.482050  0.979547 -1.188530      -0.150300   \n",
       "3     1.004506 -0.991941  -1.676504 -1.094909 -0.058405       1.097648   \n",
       "4     0.487449 -0.912160  -0.762117  1.234402 -1.139847       0.520630   \n",
       "...        ...       ...        ...       ...       ...            ...   \n",
       "1035  1.268535  0.913854   0.939776 -2.166528  0.977832      -0.624949   \n",
       "1036  1.364795  0.256516  -0.384197  0.837688  0.386690       0.466803   \n",
       "1037  1.815845 -1.645858   1.215307 -0.378246 -0.701707       0.992805   \n",
       "1038  0.622214  1.514104   0.996716 -2.091607  2.132297      -0.328974   \n",
       "1039  1.353794 -0.951649   0.591439  0.424393 -0.583479      -0.743154   \n",
       "\n",
       "          Wind  \n",
       "0     0.784535  \n",
       "1    -0.518846  \n",
       "2     1.436226  \n",
       "3    -0.518846  \n",
       "4     0.784535  \n",
       "...        ...  \n",
       "1035 -1.170536  \n",
       "1036  0.132845  \n",
       "1037  1.436226  \n",
       "1038 -1.170536  \n",
       "1039  0.784535  \n",
       "\n",
       "[1040 rows x 7 columns]"
      ]
     },
     "execution_count": 39,
     "metadata": {},
     "output_type": "execute_result"
    }
   ],
   "source": [
    "x_train_scaled_df"
   ]
  },
  {
   "cell_type": "code",
   "execution_count": 40,
   "id": "3e1c8f4c",
   "metadata": {
    "scrolled": true
   },
   "outputs": [
    {
     "data": {
      "text/plain": [
       "1470"
      ]
     },
     "execution_count": 40,
     "metadata": {},
     "output_type": "execute_result"
    }
   ],
   "source": [
    "len(predictions)"
   ]
  },
  {
   "cell_type": "code",
   "execution_count": 41,
   "id": "dc28904e",
   "metadata": {},
   "outputs": [
    {
     "data": {
      "text/plain": [
       "array([0, 0, 0, ..., 0, 0, 0], dtype=int64)"
      ]
     },
     "execution_count": 41,
     "metadata": {},
     "output_type": "execute_result"
    }
   ],
   "source": [
    "predictions"
   ]
  },
  {
   "cell_type": "code",
   "execution_count": 42,
   "id": "3e6dd648",
   "metadata": {},
   "outputs": [],
   "source": [
    "predictions_df = pd.DataFrame({'Predicted_Fire': predictions})"
   ]
  },
  {
   "cell_type": "code",
   "execution_count": 43,
   "id": "d99d3273",
   "metadata": {},
   "outputs": [
    {
     "data": {
      "text/html": [
       "<div>\n",
       "<style scoped>\n",
       "    .dataframe tbody tr th:only-of-type {\n",
       "        vertical-align: middle;\n",
       "    }\n",
       "\n",
       "    .dataframe tbody tr th {\n",
       "        vertical-align: top;\n",
       "    }\n",
       "\n",
       "    .dataframe thead th {\n",
       "        text-align: right;\n",
       "    }\n",
       "</style>\n",
       "<table border=\"1\" class=\"dataframe\">\n",
       "  <thead>\n",
       "    <tr style=\"text-align: right;\">\n",
       "      <th></th>\n",
       "      <th>Predicted_Fire</th>\n",
       "    </tr>\n",
       "  </thead>\n",
       "  <tbody>\n",
       "    <tr>\n",
       "      <th>0</th>\n",
       "      <td>0</td>\n",
       "    </tr>\n",
       "    <tr>\n",
       "      <th>1</th>\n",
       "      <td>0</td>\n",
       "    </tr>\n",
       "    <tr>\n",
       "      <th>2</th>\n",
       "      <td>0</td>\n",
       "    </tr>\n",
       "    <tr>\n",
       "      <th>3</th>\n",
       "      <td>0</td>\n",
       "    </tr>\n",
       "    <tr>\n",
       "      <th>4</th>\n",
       "      <td>0</td>\n",
       "    </tr>\n",
       "    <tr>\n",
       "      <th>...</th>\n",
       "      <td>...</td>\n",
       "    </tr>\n",
       "    <tr>\n",
       "      <th>1465</th>\n",
       "      <td>0</td>\n",
       "    </tr>\n",
       "    <tr>\n",
       "      <th>1466</th>\n",
       "      <td>0</td>\n",
       "    </tr>\n",
       "    <tr>\n",
       "      <th>1467</th>\n",
       "      <td>0</td>\n",
       "    </tr>\n",
       "    <tr>\n",
       "      <th>1468</th>\n",
       "      <td>0</td>\n",
       "    </tr>\n",
       "    <tr>\n",
       "      <th>1469</th>\n",
       "      <td>0</td>\n",
       "    </tr>\n",
       "  </tbody>\n",
       "</table>\n",
       "<p>1470 rows × 1 columns</p>\n",
       "</div>"
      ],
      "text/plain": [
       "      Predicted_Fire\n",
       "0                  0\n",
       "1                  0\n",
       "2                  0\n",
       "3                  0\n",
       "4                  0\n",
       "...              ...\n",
       "1465               0\n",
       "1466               0\n",
       "1467               0\n",
       "1468               0\n",
       "1469               0\n",
       "\n",
       "[1470 rows x 1 columns]"
      ]
     },
     "execution_count": 43,
     "metadata": {},
     "output_type": "execute_result"
    }
   ],
   "source": [
    "predictions_df"
   ]
  },
  {
   "cell_type": "code",
   "execution_count": 44,
   "id": "de471893",
   "metadata": {},
   "outputs": [
    {
     "data": {
      "text/html": [
       "<div>\n",
       "<style scoped>\n",
       "    .dataframe tbody tr th:only-of-type {\n",
       "        vertical-align: middle;\n",
       "    }\n",
       "\n",
       "    .dataframe tbody tr th {\n",
       "        vertical-align: top;\n",
       "    }\n",
       "\n",
       "    .dataframe thead th {\n",
       "        text-align: right;\n",
       "    }\n",
       "</style>\n",
       "<table border=\"1\" class=\"dataframe\">\n",
       "  <thead>\n",
       "    <tr style=\"text-align: right;\">\n",
       "      <th></th>\n",
       "      <th>OID_</th>\n",
       "      <th>Latitude</th>\n",
       "      <th>Longitude</th>\n",
       "      <th>NDVI</th>\n",
       "      <th>LST</th>\n",
       "      <th>Precipitation</th>\n",
       "      <th>Wind</th>\n",
       "      <th>Predicted_Fire</th>\n",
       "    </tr>\n",
       "  </thead>\n",
       "  <tbody>\n",
       "    <tr>\n",
       "      <th>0</th>\n",
       "      <td>1</td>\n",
       "      <td>77.121697</td>\n",
       "      <td>8.760545</td>\n",
       "      <td>7961</td>\n",
       "      <td>14776.666667</td>\n",
       "      <td>2.090874</td>\n",
       "      <td>170</td>\n",
       "      <td>0</td>\n",
       "    </tr>\n",
       "    <tr>\n",
       "      <th>1</th>\n",
       "      <td>2</td>\n",
       "      <td>76.232037</td>\n",
       "      <td>11.559951</td>\n",
       "      <td>7503</td>\n",
       "      <td>14961.000000</td>\n",
       "      <td>0.000000</td>\n",
       "      <td>160</td>\n",
       "      <td>0</td>\n",
       "    </tr>\n",
       "    <tr>\n",
       "      <th>2</th>\n",
       "      <td>3</td>\n",
       "      <td>75.323985</td>\n",
       "      <td>12.152825</td>\n",
       "      <td>8234</td>\n",
       "      <td>15299.200000</td>\n",
       "      <td>0.000000</td>\n",
       "      <td>220</td>\n",
       "      <td>0</td>\n",
       "    </tr>\n",
       "    <tr>\n",
       "      <th>3</th>\n",
       "      <td>4</td>\n",
       "      <td>76.773775</td>\n",
       "      <td>9.120047</td>\n",
       "      <td>7222</td>\n",
       "      <td>15159.250000</td>\n",
       "      <td>1.611339</td>\n",
       "      <td>190</td>\n",
       "      <td>0</td>\n",
       "    </tr>\n",
       "    <tr>\n",
       "      <th>4</th>\n",
       "      <td>5</td>\n",
       "      <td>77.021116</td>\n",
       "      <td>9.727707</td>\n",
       "      <td>7629</td>\n",
       "      <td>14929.500000</td>\n",
       "      <td>0.000000</td>\n",
       "      <td>165</td>\n",
       "      <td>0</td>\n",
       "    </tr>\n",
       "    <tr>\n",
       "      <th>...</th>\n",
       "      <td>...</td>\n",
       "      <td>...</td>\n",
       "      <td>...</td>\n",
       "      <td>...</td>\n",
       "      <td>...</td>\n",
       "      <td>...</td>\n",
       "      <td>...</td>\n",
       "      <td>...</td>\n",
       "    </tr>\n",
       "    <tr>\n",
       "      <th>1465</th>\n",
       "      <td>1466</td>\n",
       "      <td>76.296865</td>\n",
       "      <td>11.627734</td>\n",
       "      <td>6054</td>\n",
       "      <td>15026.000000</td>\n",
       "      <td>0.000000</td>\n",
       "      <td>155</td>\n",
       "      <td>0</td>\n",
       "    </tr>\n",
       "    <tr>\n",
       "      <th>1466</th>\n",
       "      <td>1467</td>\n",
       "      <td>76.218801</td>\n",
       "      <td>11.316840</td>\n",
       "      <td>8224</td>\n",
       "      <td>15307.200000</td>\n",
       "      <td>0.000000</td>\n",
       "      <td>170</td>\n",
       "      <td>0</td>\n",
       "    </tr>\n",
       "    <tr>\n",
       "      <th>1467</th>\n",
       "      <td>1468</td>\n",
       "      <td>76.372016</td>\n",
       "      <td>9.661238</td>\n",
       "      <td>7627</td>\n",
       "      <td>15228.500000</td>\n",
       "      <td>0.000000</td>\n",
       "      <td>205</td>\n",
       "      <td>0</td>\n",
       "    </tr>\n",
       "    <tr>\n",
       "      <th>1468</th>\n",
       "      <td>1469</td>\n",
       "      <td>76.204320</td>\n",
       "      <td>11.513243</td>\n",
       "      <td>7666</td>\n",
       "      <td>14998.000000</td>\n",
       "      <td>0.000000</td>\n",
       "      <td>170</td>\n",
       "      <td>0</td>\n",
       "    </tr>\n",
       "    <tr>\n",
       "      <th>1469</th>\n",
       "      <td>1470</td>\n",
       "      <td>76.896826</td>\n",
       "      <td>9.776615</td>\n",
       "      <td>8790</td>\n",
       "      <td>14962.250000</td>\n",
       "      <td>0.000000</td>\n",
       "      <td>170</td>\n",
       "      <td>0</td>\n",
       "    </tr>\n",
       "  </tbody>\n",
       "</table>\n",
       "<p>1470 rows × 8 columns</p>\n",
       "</div>"
      ],
      "text/plain": [
       "      OID_   Latitude  Longitude  NDVI           LST  Precipitation  Wind  \\\n",
       "0        1  77.121697   8.760545  7961  14776.666667       2.090874   170   \n",
       "1        2  76.232037  11.559951  7503  14961.000000       0.000000   160   \n",
       "2        3  75.323985  12.152825  8234  15299.200000       0.000000   220   \n",
       "3        4  76.773775   9.120047  7222  15159.250000       1.611339   190   \n",
       "4        5  77.021116   9.727707  7629  14929.500000       0.000000   165   \n",
       "...    ...        ...        ...   ...           ...            ...   ...   \n",
       "1465  1466  76.296865  11.627734  6054  15026.000000       0.000000   155   \n",
       "1466  1467  76.218801  11.316840  8224  15307.200000       0.000000   170   \n",
       "1467  1468  76.372016   9.661238  7627  15228.500000       0.000000   205   \n",
       "1468  1469  76.204320  11.513243  7666  14998.000000       0.000000   170   \n",
       "1469  1470  76.896826   9.776615  8790  14962.250000       0.000000   170   \n",
       "\n",
       "      Predicted_Fire  \n",
       "0                  0  \n",
       "1                  0  \n",
       "2                  0  \n",
       "3                  0  \n",
       "4                  0  \n",
       "...              ...  \n",
       "1465               0  \n",
       "1466               0  \n",
       "1467               0  \n",
       "1468               0  \n",
       "1469               0  \n",
       "\n",
       "[1470 rows x 8 columns]"
      ]
     },
     "execution_count": 44,
     "metadata": {},
     "output_type": "execute_result"
    }
   ],
   "source": [
    "fire_df=pd.concat([new,predictions_df],axis=1)\n",
    "fire_df"
   ]
  },
  {
   "cell_type": "code",
   "execution_count": 45,
   "id": "e5a6b34c",
   "metadata": {},
   "outputs": [],
   "source": [
    "fire_df.to_csv('New_predicted_f1500.csv')"
   ]
  }
 ],
 "metadata": {
  "kernelspec": {
   "display_name": "Python 3 (ipykernel)",
   "language": "python",
   "name": "python3"
  },
  "language_info": {
   "codemirror_mode": {
    "name": "ipython",
    "version": 3
   },
   "file_extension": ".py",
   "mimetype": "text/x-python",
   "name": "python",
   "nbconvert_exporter": "python",
   "pygments_lexer": "ipython3",
   "version": "3.9.12"
  }
 },
 "nbformat": 4,
 "nbformat_minor": 5
}
